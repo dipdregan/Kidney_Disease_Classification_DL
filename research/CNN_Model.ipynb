{
 "cells": [
  {
   "cell_type": "code",
   "execution_count": 1,
   "metadata": {},
   "outputs": [],
   "source": [
    "import os\n",
    "import numpy as np\n",
    "from sklearn.model_selection import train_test_split\n",
    "\n",
    "def split_data(data_dir, test_size=0.3, val_size=0.5, random_state=42):\n",
    "    # Loading the data from .npy files\n",
    "    image_data = np.load(os.path.join(data_dir, \"image_data.npy\"))\n",
    "    labels = np.load(os.path.join(data_dir, \"labels.npy\"))\n",
    "\n",
    "    # Spliting the data into training, testing, and validation sets\n",
    "    X_train, X_temp, y_train, y_temp = train_test_split(image_data, labels, test_size=test_size, random_state=random_state)\n",
    "    X_test, X_val, y_test, y_val = train_test_split(X_temp, y_temp, test_size=val_size, random_state=random_state)\n",
    "\n",
    "    return X_train, y_train, X_test, y_test, X_val, y_val\n",
    "\n",
    "data_dir = r\"F:\\End_To_End_project\\Kidney_Disease_Classification_DL\\data\\preprocessed_data\"\n",
    "X_train, y_train, X_test, y_test, X_val, y_val = split_data(data_dir, test_size=0.3, val_size=0.5)\n"
   ]
  },
  {
   "cell_type": "code",
   "execution_count": 2,
   "metadata": {},
   "outputs": [
    {
     "name": "stdout",
     "output_type": "stream",
     "text": [
      "Shape of x_train data :(3855, 224, 224)\n",
      "Shape of y_train data :(3855,)\n",
      "Shape of x_val data :(827, 224, 224)\n",
      "Shape of y_val data :(827,)\n",
      "Shape of X_test data :(826, 224, 224)\n",
      "Shape of y_test data :(826,)\n"
     ]
    }
   ],
   "source": [
    "print(f\"Shape of x_train data :{X_train.shape}\")\n",
    "print(f\"Shape of y_train data :{y_train.shape}\")\n",
    "print(f\"Shape of x_val data :{X_val.shape}\")\n",
    "print(f\"Shape of y_val data :{y_val.shape}\")\n",
    "print(f\"Shape of X_test data :{X_test.shape}\")\n",
    "print(f\"Shape of y_test data :{y_test.shape}\")"
   ]
  },
  {
   "cell_type": "code",
   "execution_count": 3,
   "metadata": {},
   "outputs": [
    {
     "name": "stdout",
     "output_type": "stream",
     "text": [
      "Model: \"sequential\"\n",
      "_________________________________________________________________\n",
      " Layer (type)                Output Shape              Param #   \n",
      "=================================================================\n",
      " conv2d (Conv2D)             (None, 222, 222, 32)      320       \n",
      "                                                                 \n",
      " max_pooling2d (MaxPooling2  (None, 111, 111, 32)      0         \n",
      " D)                                                              \n",
      "                                                                 \n",
      " conv2d_1 (Conv2D)           (None, 109, 109, 64)      18496     \n",
      "                                                                 \n",
      " max_pooling2d_1 (MaxPoolin  (None, 54, 54, 64)        0         \n",
      " g2D)                                                            \n",
      "                                                                 \n",
      " conv2d_2 (Conv2D)           (None, 52, 52, 128)       73856     \n",
      "                                                                 \n",
      " max_pooling2d_2 (MaxPoolin  (None, 26, 26, 128)       0         \n",
      " g2D)                                                            \n",
      "                                                                 \n",
      " flatten (Flatten)           (None, 86528)             0         \n",
      "                                                                 \n",
      " dense (Dense)               (None, 128)               11075712  \n",
      "                                                                 \n",
      " dropout (Dropout)           (None, 128)               0         \n",
      "                                                                 \n",
      " dense_1 (Dense)             (None, 4)                 516       \n",
      "                                                                 \n",
      "=================================================================\n",
      "Total params: 11168900 (42.61 MB)\n",
      "Trainable params: 11168900 (42.61 MB)\n",
      "Non-trainable params: 0 (0.00 Byte)\n",
      "_________________________________________________________________\n"
     ]
    }
   ],
   "source": [
    "import tensorflow as tf\n",
    "from tensorflow.keras import layers, models\n",
    "\n",
    "# Define the CNN model\n",
    "model = models.Sequential([\n",
    "    # Convolutional layers\n",
    "    layers.Conv2D(32, (3, 3), activation='relu', input_shape=(224, 224, 1)),\n",
    "    layers.MaxPooling2D((2, 2)),\n",
    "    layers.Conv2D(64, (3, 3), activation='relu'),\n",
    "    layers.MaxPooling2D((2, 2)),\n",
    "    layers.Conv2D(128, (3, 3), activation='relu'),\n",
    "    layers.MaxPooling2D((2, 2)),\n",
    "    # Flatten the feature maps\n",
    "    layers.Flatten(),\n",
    "    # Fully connected layers\n",
    "    layers.Dense(128, activation='relu'),\n",
    "    layers.Dropout(0.5), \n",
    "    layers.Dense(4, activation='softmax') \n",
    "])\n",
    "\n",
    "\n",
    "model.compile(optimizer='adam',\n",
    "              loss='sparse_categorical_crossentropy',\n",
    "              metrics=['accuracy'])\n",
    "\n",
    "model.summary()\n"
   ]
  },
  {
   "cell_type": "code",
   "execution_count": 5,
   "metadata": {},
   "outputs": [
    {
     "name": "stdout",
     "output_type": "stream",
     "text": [
      "Epoch 1/10\n",
      "121/121 [==============================] - ETA: 0s - loss: 0.5962 - accuracy: 0.7512\n",
      "Epoch 1: val_accuracy improved from -inf to 0.99154, saving model to best_model.h5\n"
     ]
    },
    {
     "name": "stderr",
     "output_type": "stream",
     "text": [
      "f:\\End_To_End_project\\Kidney_Disease_Classification_DL\\kidney\\lib\\site-packages\\keras\\src\\engine\\training.py:3000: UserWarning: You are saving your model as an HDF5 file via `model.save()`. This file format is considered legacy. We recommend using instead the native Keras format, e.g. `model.save('my_model.keras')`.\n",
      "  saving_api.save_model(\n"
     ]
    },
    {
     "name": "stdout",
     "output_type": "stream",
     "text": [
      "121/121 [==============================] - 366s 3s/step - loss: 0.5962 - accuracy: 0.7512 - val_loss: 0.0649 - val_accuracy: 0.9915\n",
      "Epoch 2/10\n",
      "121/121 [==============================] - ETA: 0s - loss: 0.0896 - accuracy: 0.9696\n",
      "Epoch 2: val_accuracy improved from 0.99154 to 0.99274, saving model to best_model.h5\n",
      "121/121 [==============================] - 362s 3s/step - loss: 0.0896 - accuracy: 0.9696 - val_loss: 0.0234 - val_accuracy: 0.9927\n",
      "Epoch 3/10\n",
      "121/121 [==============================] - ETA: 0s - loss: 0.0362 - accuracy: 0.9891\n",
      "Epoch 3: val_accuracy improved from 0.99274 to 0.99516, saving model to best_model.h5\n",
      "121/121 [==============================] - 407s 3s/step - loss: 0.0362 - accuracy: 0.9891 - val_loss: 0.0150 - val_accuracy: 0.9952\n",
      "Epoch 4/10\n",
      "121/121 [==============================] - ETA: 0s - loss: 0.0190 - accuracy: 0.9943\n",
      "Epoch 4: val_accuracy improved from 0.99516 to 0.99758, saving model to best_model.h5\n",
      "121/121 [==============================] - 487s 4s/step - loss: 0.0190 - accuracy: 0.9943 - val_loss: 0.0081 - val_accuracy: 0.9976\n",
      "Epoch 5/10\n",
      "121/121 [==============================] - ETA: 0s - loss: 0.0246 - accuracy: 0.9925\n",
      "Epoch 5: val_accuracy did not improve from 0.99758\n",
      "121/121 [==============================] - 523s 4s/step - loss: 0.0246 - accuracy: 0.9925 - val_loss: 0.0215 - val_accuracy: 0.9940\n",
      "Epoch 6/10\n",
      "121/121 [==============================] - ETA: 0s - loss: 0.0138 - accuracy: 0.9951\n",
      "Epoch 6: val_accuracy did not improve from 0.99758\n",
      "121/121 [==============================] - 433s 4s/step - loss: 0.0138 - accuracy: 0.9951 - val_loss: 0.0139 - val_accuracy: 0.9952\n",
      "Epoch 7/10\n",
      "121/121 [==============================] - ETA: 0s - loss: 0.0167 - accuracy: 0.9951\n",
      "Epoch 7: val_accuracy did not improve from 0.99758\n",
      "121/121 [==============================] - 537s 4s/step - loss: 0.0167 - accuracy: 0.9951 - val_loss: 0.0251 - val_accuracy: 0.9927\n",
      "Epoch 8/10\n",
      "121/121 [==============================] - ETA: 0s - loss: 0.0131 - accuracy: 0.9951\n",
      "Epoch 8: val_accuracy did not improve from 0.99758\n",
      "121/121 [==============================] - 512s 4s/step - loss: 0.0131 - accuracy: 0.9951 - val_loss: 0.0125 - val_accuracy: 0.9964\n",
      "Epoch 9/10\n",
      "121/121 [==============================] - ETA: 0s - loss: 0.0137 - accuracy: 0.9961\n",
      "Epoch 9: val_accuracy did not improve from 0.99758\n",
      "121/121 [==============================] - 434s 4s/step - loss: 0.0137 - accuracy: 0.9961 - val_loss: 0.0243 - val_accuracy: 0.9952\n",
      "Epoch 10/10\n",
      "121/121 [==============================] - ETA: 0s - loss: 0.0136 - accuracy: 0.9966\n",
      "Epoch 10: val_accuracy did not improve from 0.99758\n",
      "121/121 [==============================] - 444s 4s/step - loss: 0.0136 - accuracy: 0.9966 - val_loss: 0.0152 - val_accuracy: 0.9976\n"
     ]
    }
   ],
   "source": [
    "from tensorflow.keras.callbacks import ModelCheckpoint, EarlyStopping\n",
    "\n",
    "\n",
    "early_stopping = EarlyStopping(\n",
    "    monitor='val_loss',        # it will Monitor validation loss\n",
    "    patience=10,               # Number of epochs with no improvement before stopping\n",
    "    restore_best_weights=True  # Restore the model weights to the best epoch\n",
    ")\n",
    "\n",
    "checkpoint = ModelCheckpoint(\n",
    "    'best_model.h5',  # File to save the best model\n",
    "    monitor='val_accuracy',  # Monitor validation accuracy\n",
    "    save_best_only=True,     # Save only the best model\n",
    "    mode='max',             # Save the model when accuracy is maximized\n",
    "    verbose=1\n",
    ")\n",
    "\n",
    "history = model.fit(\n",
    "    X_train,\n",
    "    y_train,\n",
    "    epochs=10,\n",
    "    validation_data=(X_val, y_val),\n",
    "    callbacks=[early_stopping, checkpoint]\n",
    ")\n"
   ]
  },
  {
   "cell_type": "code",
   "execution_count": null,
   "metadata": {},
   "outputs": [],
   "source": []
  }
 ],
 "metadata": {
  "kernelspec": {
   "display_name": "Python 3",
   "language": "python",
   "name": "python3"
  },
  "language_info": {
   "codemirror_mode": {
    "name": "ipython",
    "version": 3
   },
   "file_extension": ".py",
   "mimetype": "text/x-python",
   "name": "python",
   "nbconvert_exporter": "python",
   "pygments_lexer": "ipython3",
   "version": "3.8.18"
  }
 },
 "nbformat": 4,
 "nbformat_minor": 2
}
